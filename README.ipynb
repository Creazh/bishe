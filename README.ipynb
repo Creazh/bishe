# The-Impact-of-deck-size-Q-Learning-Blackjack
Avish Buramdoyal's honours dissertation supervised by Tim Gebbie working on reinforcement learn blackjack and assessing the impact a variation in deck size might have on learning performance.

#Importing gym
import gym
from gym import envs

#Available environments
print(envs.registry.all())

dict_values([EnvSpec(Copy-v0), EnvSpec(RepeatCopy-v0), EnvSpec(ReversedAddition-v0), EnvSpec(ReversedAddition3-v0), EnvSpec(DuplicatedInput-v0), EnvSpec(Reverse-v0), EnvSpec(CartPole-v0), EnvSpec(CartPole-v1),..... ])


